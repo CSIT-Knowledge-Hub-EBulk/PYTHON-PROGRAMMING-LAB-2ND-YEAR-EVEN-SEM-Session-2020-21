{
 "cells": [
  {
   "cell_type": "markdown",
   "metadata": {},
   "source": [
    "###### Find HCF/GFC/GCD"
   ]
  },
  {
   "cell_type": "code",
   "execution_count": 1,
   "metadata": {},
   "outputs": [],
   "source": [
    "# without user"
   ]
  },
  {
   "cell_type": "code",
   "execution_count": 22,
   "metadata": {},
   "outputs": [
    {
     "name": "stdout",
     "output_type": "stream",
     "text": [
      "HCF/GFC/GCD of  8 , 10 and 12 are =  2\n"
     ]
    }
   ],
   "source": [
    "num_1=8\n",
    "num_2=10\n",
    "num_3=12\n",
    "gcd=0\n",
    "i=1\n",
    "while(i<=num_1 and i<=num_2 and i<=num_3):\n",
    "    if((num_1%i==0) and (num_2%i==0)and (num_3%i==0)):\n",
    "        gcd=i\n",
    "    i+=1\n",
    "print(\"HCF/GFC/GCD of \",num_1,\",\",num_2,\"and\",num_3,\"are = \",gcd)"
   ]
  },
  {
   "cell_type": "code",
   "execution_count": 12,
   "metadata": {},
   "outputs": [],
   "source": [
    "# with user input"
   ]
  },
  {
   "cell_type": "code",
   "execution_count": 23,
   "metadata": {},
   "outputs": [
    {
     "name": "stdout",
     "output_type": "stream",
     "text": [
      "Find the HCF/GFC/GCD of Two Numbers\n",
      "-------------\n",
      "enter 1st number for finding HCF/GFC/GCD=5\n",
      "enter 2nd number for finding HCF/GFC/GCD=10\n",
      "HCF/GFC/GCD of  5 and 10 is =  5\n"
     ]
    }
   ],
   "source": [
    "print(\"Find the HCF/GFC/GCD of Two Numbers\")\n",
    "print(\"-------------\")\n",
    "num_1=int(input(\"enter 1st number for finding HCF/GFC/GCD=\"))\n",
    "num_2=int(input(\"enter 2nd number for finding HCF/GFC/GCD=\"))\n",
    "gcd=0\n",
    "i=1\n",
    "while(i<=num_1 and i<=num_2):\n",
    "    if((num_1%i==0) and (num_2%i==0)):\n",
    "        gcd=i\n",
    "    i+=1\n",
    "print(\"HCF/GFC/GCD of \",num_1,\"and\",num_2,\"is = \",gcd)"
   ]
  },
  {
   "cell_type": "code",
   "execution_count": 24,
   "metadata": {},
   "outputs": [],
   "source": [
    "# using function"
   ]
  },
  {
   "cell_type": "code",
   "execution_count": 25,
   "metadata": {},
   "outputs": [],
   "source": [
    "def gcd_num():\n",
    "    print(\"Find the HCF/GFC/GCD of Two Numbers\")\n",
    "    print(\"-------------\")\n",
    "    num_1=int(input(\"enter 1st number for finding HCF/GFC/GCD=\"))\n",
    "    num_2=int(input(\"enter 2nd number for finding HCF/GFC/GCD=\"))\n",
    "    gcd=0\n",
    "    i=1\n",
    "    while(i<=num_1 and i<=num_2):\n",
    "        if((num_1%i==0) and (num_2%i==0)):\n",
    "            gcd=i\n",
    "        i+=1\n",
    "    print(\"HCF/GFC/GCD of \",num_1,\"and\",num_2,\"is = \",gcd)"
   ]
  },
  {
   "cell_type": "code",
   "execution_count": 26,
   "metadata": {},
   "outputs": [
    {
     "name": "stdout",
     "output_type": "stream",
     "text": [
      "Find the HCF/GFC/GCD of Two Numbers\n",
      "-------------\n",
      "enter 1st number for finding HCF/GFC/GCD=8\n",
      "enter 2nd number for finding HCF/GFC/GCD=12\n",
      "HCF/GFC/GCD of  8 and 12 is =  4\n"
     ]
    }
   ],
   "source": [
    "gcd_num()"
   ]
  },
  {
   "cell_type": "code",
   "execution_count": 27,
   "metadata": {},
   "outputs": [
    {
     "name": "stdout",
     "output_type": "stream",
     "text": [
      "Find the HCF/GFC/GCD of Two Numbers\n",
      "-------------\n",
      "enter 1st number for finding HCF/GFC/GCD=5\n",
      "enter 2nd number for finding HCF/GFC/GCD=10\n",
      "HCF/GFC/GCD of  5 and 10 is =  5\n"
     ]
    }
   ],
   "source": [
    "gcd_num()"
   ]
  },
  {
   "cell_type": "code",
   "execution_count": 28,
   "metadata": {},
   "outputs": [
    {
     "name": "stdout",
     "output_type": "stream",
     "text": [
      "Find the HCF/GFC/GCD of Two Numbers\n",
      "-------------\n",
      "enter 1st number for finding HCF/GFC/GCD=24\n",
      "enter 2nd number for finding HCF/GFC/GCD=60\n",
      "HCF/GFC/GCD of  24 and 60 is =  12\n"
     ]
    }
   ],
   "source": [
    "gcd_num()"
   ]
  },
  {
   "cell_type": "code",
   "execution_count": null,
   "metadata": {},
   "outputs": [],
   "source": []
  }
 ],
 "metadata": {
  "kernelspec": {
   "display_name": "Python 3",
   "language": "python",
   "name": "python3"
  },
  "language_info": {
   "codemirror_mode": {
    "name": "ipython",
    "version": 3
   },
   "file_extension": ".py",
   "mimetype": "text/x-python",
   "name": "python",
   "nbconvert_exporter": "python",
   "pygments_lexer": "ipython3",
   "version": "3.8.5"
  }
 },
 "nbformat": 4,
 "nbformat_minor": 4
}
