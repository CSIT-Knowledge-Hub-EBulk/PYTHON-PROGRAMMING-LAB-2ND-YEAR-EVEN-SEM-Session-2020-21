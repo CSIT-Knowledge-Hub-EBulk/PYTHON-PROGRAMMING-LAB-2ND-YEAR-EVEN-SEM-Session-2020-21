{
 "cells": [
  {
   "cell_type": "markdown",
   "metadata": {},
   "source": [
    "######  Find Factors of number"
   ]
  },
  {
   "cell_type": "code",
   "execution_count": 1,
   "metadata": {},
   "outputs": [],
   "source": [
    "# without user input"
   ]
  },
  {
   "cell_type": "code",
   "execution_count": 1,
   "metadata": {},
   "outputs": [
    {
     "name": "stdout",
     "output_type": "stream",
     "text": [
      "The factors of= 15 :are-> 1 3 5 15 \n",
      " Total factors of= 15 are: 4\n"
     ]
    }
   ],
   "source": [
    "num=15\n",
    "count=0\n",
    "print(\"The factors of=\",num,\":\" \"are->\",end=\" \")\n",
    "for i in range(1,num+1,1):\n",
    "    if(num%i==0):\n",
    "        count+=1\n",
    "        #count=count+1\n",
    "        print(i,end=\" \")\n",
    "print(\"\\n Total factors of=\",num,\"are:\",count)"
   ]
  },
  {
   "cell_type": "code",
   "execution_count": 2,
   "metadata": {},
   "outputs": [],
   "source": [
    "# with user input"
   ]
  },
  {
   "cell_type": "code",
   "execution_count": 4,
   "metadata": {},
   "outputs": [
    {
     "name": "stdout",
     "output_type": "stream",
     "text": [
      "enter the number which we get factor of given user number input=15\n",
      "The factors of= 15 :are-> 1 3 5 15 \n",
      " Total factors of= 15 are: 4\n"
     ]
    }
   ],
   "source": [
    "num=int(input(\"enter the number which we get factor of given user number input=\"))\n",
    "count=0\n",
    "print(\"The factors of=\",num,\":\" \"are->\",end=\" \")\n",
    "for i in range(1,num+1,1):\n",
    "    if(num%i==0):\n",
    "        count+=1\n",
    "        #count=count+1\n",
    "        print(i,end=\" \")\n",
    "print(\"\\n Total factors of=\",num,\"are:\",count)"
   ]
  },
  {
   "cell_type": "code",
   "execution_count": 5,
   "metadata": {},
   "outputs": [],
   "source": [
    "# using basic function"
   ]
  },
  {
   "cell_type": "code",
   "execution_count": 6,
   "metadata": {},
   "outputs": [],
   "source": [
    "def factor_num():\n",
    "    num=int(input(\"enter the number which we get factor of given user number input=\"))\n",
    "    count=0\n",
    "    print(\"The factors of=\",num,\":\" \"are->\",end=\" \")\n",
    "    for i in range(1,num+1,1):\n",
    "        if(num%i==0):\n",
    "            count+=1\n",
    "            #count=count+1\n",
    "            print(i,end=\" \")\n",
    "    print(\"\\n Total factors of=\",num,\"are:\",count)"
   ]
  },
  {
   "cell_type": "code",
   "execution_count": 7,
   "metadata": {},
   "outputs": [
    {
     "name": "stdout",
     "output_type": "stream",
     "text": [
      "enter the number which we get factor of given user number input=15\n",
      "The factors of= 15 :are-> 1 3 5 15 \n",
      " Total factors of= 15 are: 4\n"
     ]
    }
   ],
   "source": [
    "factor_num()"
   ]
  },
  {
   "cell_type": "code",
   "execution_count": 8,
   "metadata": {},
   "outputs": [
    {
     "name": "stdout",
     "output_type": "stream",
     "text": [
      "enter the number which we get factor of given user number input=60\n",
      "The factors of= 60 :are-> 1 2 3 4 5 6 10 12 15 20 30 60 \n",
      " Total factors of= 60 are: 12\n"
     ]
    }
   ],
   "source": [
    "factor_num()"
   ]
  },
  {
   "cell_type": "markdown",
   "metadata": {},
   "source": [
    "###### LCM:Least Common Multiple"
   ]
  },
  {
   "cell_type": "code",
   "execution_count": 9,
   "metadata": {},
   "outputs": [],
   "source": [
    "# Without user input"
   ]
  },
  {
   "cell_type": "code",
   "execution_count": 10,
   "metadata": {},
   "outputs": [
    {
     "name": "stdout",
     "output_type": "stream",
     "text": [
      "LCM of num_1 12 and 80 is= 240\n"
     ]
    }
   ],
   "source": [
    "num_1=12\n",
    "num_2=80\n",
    "lcm=0\n",
    "if(num_1>num_2):\n",
    "    lcm=num_1\n",
    "else:\n",
    "    lcm=num_2\n",
    "#while(True)\n",
    "while(1):\n",
    "    if(lcm%num_1==0 and lcm%num_2==0):\n",
    "        print(\"LCM of num_1\",num_1,\"and\",num_2,\"is=\",lcm)\n",
    "        break\n",
    "    lcm+=1"
   ]
  },
  {
   "cell_type": "code",
   "execution_count": 11,
   "metadata": {},
   "outputs": [],
   "source": [
    "# With user input"
   ]
  },
  {
   "cell_type": "code",
   "execution_count": 13,
   "metadata": {},
   "outputs": [
    {
     "name": "stdout",
     "output_type": "stream",
     "text": [
      "Find the LCM of Two Numbers\n",
      "-------------\n",
      "enter 1st number for finding LCM=12\n",
      "enter 2nd number for finding LCM=80\n",
      "LCM of num_1 12 and 80 is= 240\n"
     ]
    }
   ],
   "source": [
    "print(\"Find the LCM of Two Numbers\")\n",
    "print(\"-------------\")\n",
    "num_1=int(input(\"enter 1st number for finding LCM=\"))\n",
    "num_2=int(input(\"enter 2nd number for finding LCM=\"))\n",
    "lcm=0\n",
    "if(num_1>num_2):\n",
    "    lcm=num_1\n",
    "else:\n",
    "    lcm=num_2\n",
    "#while(True)\n",
    "while(1):\n",
    "    if(lcm%num_1==0 and lcm%num_2==0):\n",
    "        print(\"LCM of num_1\",num_1,\"and\",num_2,\"is=\",lcm)\n",
    "        break\n",
    "    lcm+=1"
   ]
  },
  {
   "cell_type": "code",
   "execution_count": 15,
   "metadata": {},
   "outputs": [],
   "source": [
    "# using function"
   ]
  },
  {
   "cell_type": "code",
   "execution_count": 1,
   "metadata": {},
   "outputs": [],
   "source": [
    "def lcm_num():\n",
    "    print(\"Find the LCM of Two Numbers\")\n",
    "    print(\"-------------\")\n",
    "    num_1=int(input(\"enter 1st number for finding LCM=\"))\n",
    "    num_2=int(input(\"enter 2nd number for finding LCM=\"))\n",
    "    lcm=0\n",
    "    if(num_1>num_2):\n",
    "        lcm=num_1\n",
    "    else:\n",
    "        lcm=num_2\n",
    "        #while(True)\n",
    "        while(1):\n",
    "            if(lcm%num_1==0 and lcm%num_2==0):\n",
    "                print(\"LCM of num_1\",num_1,\"and\",num_2,\"is=\",lcm)\n",
    "                break\n",
    "            lcm+=1"
   ]
  },
  {
   "cell_type": "code",
   "execution_count": 2,
   "metadata": {},
   "outputs": [
    {
     "name": "stdout",
     "output_type": "stream",
     "text": [
      "Find the LCM of Two Numbers\n",
      "-------------\n",
      "enter 1st number for finding LCM=12\n",
      "enter 2nd number for finding LCM=80\n",
      "LCM of num_1 12 and 80 is= 240\n"
     ]
    }
   ],
   "source": [
    "lcm_num()"
   ]
  },
  {
   "cell_type": "code",
   "execution_count": 3,
   "metadata": {},
   "outputs": [
    {
     "name": "stdout",
     "output_type": "stream",
     "text": [
      "Find the LCM of Two Numbers\n",
      "-------------\n",
      "enter 1st number for finding LCM=8\n",
      "enter 2nd number for finding LCM=12\n",
      "LCM of num_1 8 and 12 is= 24\n"
     ]
    }
   ],
   "source": [
    "lcm_num()"
   ]
  },
  {
   "cell_type": "code",
   "execution_count": null,
   "metadata": {},
   "outputs": [],
   "source": []
  }
 ],
 "metadata": {
  "kernelspec": {
   "display_name": "Python 3",
   "language": "python",
   "name": "python3"
  },
  "language_info": {
   "codemirror_mode": {
    "name": "ipython",
    "version": 3
   },
   "file_extension": ".py",
   "mimetype": "text/x-python",
   "name": "python",
   "nbconvert_exporter": "python",
   "pygments_lexer": "ipython3",
   "version": "3.8.5"
  }
 },
 "nbformat": 4,
 "nbformat_minor": 4
}
