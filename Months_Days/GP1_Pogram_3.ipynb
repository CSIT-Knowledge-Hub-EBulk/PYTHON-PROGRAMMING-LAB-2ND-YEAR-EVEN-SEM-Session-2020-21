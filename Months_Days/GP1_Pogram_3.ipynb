{
 "cells": [
  {
   "cell_type": "markdown",
   "metadata": {},
   "source": [
    "Martix Addition using Nested loop"
   ]
  },
  {
   "cell_type": "code",
   "execution_count": 2,
   "metadata": {},
   "outputs": [],
   "source": [
    "X=[[12,2,6],[4,5,8],[9,7,55]]\n",
    "Y=[[8,76,55],[67,554,45],[45,23,34]]\n",
    "Z=[[0,0,0],[0,0,0],[0,0,0]]"
   ]
  },
  {
   "cell_type": "code",
   "execution_count": 4,
   "metadata": {},
   "outputs": [
    {
     "name": "stdout",
     "output_type": "stream",
     "text": [
      "[20, 78, 61]\n",
      "[71, 559, 53]\n",
      "[54, 30, 89]\n"
     ]
    }
   ],
   "source": [
    "# iterate for rows\n",
    "for i in range (len(X)):\n",
    "    # iterate for coulumn\n",
    "    for j in range (len(Y)):\n",
    "        #result of X+Y\n",
    "        Z[i][j]=X[i][j]+Y[i][j]\n",
    "for k in Z:\n",
    "    print(k)"
   ]
  },
  {
   "cell_type": "markdown",
   "metadata": {},
   "source": [
    "Martix Subtraction using Nested loop"
   ]
  },
  {
   "cell_type": "code",
   "execution_count": 5,
   "metadata": {},
   "outputs": [],
   "source": [
    "A=[[12,2,6],[4,5,8],[9,7,55]]\n",
    "B=[[8,76,55],[67,554,45],[45,23,34]]\n",
    "C=[[0,0,0],[0,0,0],[0,0,0]]"
   ]
  },
  {
   "cell_type": "code",
   "execution_count": 9,
   "metadata": {},
   "outputs": [
    {
     "name": "stdout",
     "output_type": "stream",
     "text": [
      "the output of C\n",
      "[4, -74, -49]\n",
      "[-63, -549, -37]\n",
      "[-36, -16, 21]\n"
     ]
    }
   ],
   "source": [
    "# iterate for rows\n",
    "for i in range (len(A)):\n",
    "    # iterate for coulumn\n",
    "    for j in range (len(B)):\n",
    "        #result of A-B\n",
    "        C[i][j]=A[i][j]-B[i][j]\n",
    "        #print(C[i][j])\n",
    "print(\"the output of C\")\n",
    "for k in C:\n",
    "    print(k)"
   ]
  },
  {
   "cell_type": "markdown",
   "metadata": {},
   "source": [
    "Martix Multiplication using Nested loop"
   ]
  },
  {
   "cell_type": "code",
   "execution_count": 2,
   "metadata": {},
   "outputs": [
    {
     "name": "stdout",
     "output_type": "stream",
     "text": [
      "the output of matrix='m3'\n",
      "[19, 22]\n",
      "[43, 50]\n"
     ]
    }
   ],
   "source": [
    "#m1 2* 2 \n",
    "m1=[[1,2],[3,4]]\n",
    "#m2 2*2\n",
    "m2=[[5,6],[7,8]]\n",
    "#m3 2*2\n",
    "m3=[[0,0],[0,0]]\n",
    "for i in range(len(m1)):\n",
    "    for j in range(len(m2[0])):\n",
    "        for k in range(len(m2)):\n",
    "            m3[i][j]+=m1[i][k]*m2[k][j]\n",
    "print(\"the output of matrix='m3'\")\n",
    "for l in m3:\n",
    "    print(l)"
   ]
  },
  {
   "cell_type": "markdown",
   "metadata": {},
   "source": [
    "Transpose Martix  using Nested loop"
   ]
  },
  {
   "cell_type": "code",
   "execution_count": 9,
   "metadata": {},
   "outputs": [
    {
     "name": "stdout",
     "output_type": "stream",
     "text": [
      "the output of matrix='A'\n",
      "[12, 34, 67]\n",
      "[56, 78, 89]\n",
      "[5, 45, 6]\n",
      "the output of transpose matrix='A_t'\n",
      "[12, 56, 5]\n",
      "[34, 78, 45]\n",
      "[67, 89, 6]\n"
     ]
    }
   ],
   "source": [
    "A=[[12,34,67],[56,78,89],[5,45,6]]\n",
    "print((\"the output of matrix='A'\"))\n",
    "for k in A:\n",
    "    print(k)\n",
    "#print((\"the output of matrix='A'\",A))\n",
    "A_t=[[0,0,0],[0,0,0],[0,0,0]]\n",
    "for i in range(len(A)):\n",
    "    for j in range(len(A[0])):\n",
    "        A_t[j][i]=A[i][j]\n",
    "print((\"the output of transpose matrix='A_t'\"))\n",
    "for l in A_t:\n",
    "    print(l)"
   ]
  },
  {
   "cell_type": "code",
   "execution_count": null,
   "metadata": {},
   "outputs": [],
   "source": []
  }
 ],
 "metadata": {
  "kernelspec": {
   "display_name": "Python 3",
   "language": "python",
   "name": "python3"
  },
  "language_info": {
   "codemirror_mode": {
    "name": "ipython",
    "version": 3
   },
   "file_extension": ".py",
   "mimetype": "text/x-python",
   "name": "python",
   "nbconvert_exporter": "python",
   "pygments_lexer": "ipython3",
   "version": "3.8.5"
  }
 },
 "nbformat": 4,
 "nbformat_minor": 4
}
