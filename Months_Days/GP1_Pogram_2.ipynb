{
 "cells": [
  {
   "cell_type": "code",
   "execution_count": null,
   "metadata": {},
   "outputs": [],
   "source": [
    "if 2+2==4:print(\"the output of (2+2)\")\n",
    "print(\"exit\")"
   ]
  },
  {
   "cell_type": "code",
   "execution_count": null,
   "metadata": {},
   "outputs": [],
   "source": [
    "# if statement using from user input\n",
    "x=int(input(\"enter any to be test\"))\n",
    "print(\"show the value which enter to be test is = \",x)"
   ]
  },
  {
   "cell_type": "code",
   "execution_count": null,
   "metadata": {},
   "outputs": [],
   "source": [
    "if 2+2==4:print(\"the output of (2+2)\"),print(\"the output of (2+2)\"),print(\"the output of (2+2)\")\n",
    "print(\"exit\")"
   ]
  },
  {
   "cell_type": "code",
   "execution_count": 8,
   "metadata": {},
   "outputs": [
    {
     "name": "stdout",
     "output_type": "stream",
     "text": [
      "exit\n"
     ]
    }
   ],
   "source": [
    "if x==8:\n",
    "    print(\"equal\")\n",
    "print(\"exit\")\n",
    "    "
   ]
  },
  {
   "cell_type": "code",
   "execution_count": 9,
   "metadata": {},
   "outputs": [
    {
     "name": "stdout",
     "output_type": "stream",
     "text": [
      "enter any grade to be test45\n",
      "show the value which enter to be test is =  45\n"
     ]
    }
   ],
   "source": [
    "# else statement using from user input\n",
    "y=int(input(\"enter any grade to be test\"))\n",
    "print(\"show the value which enter to be test is = \",y)"
   ]
  },
  {
   "cell_type": "code",
   "execution_count": 10,
   "metadata": {},
   "outputs": [
    {
     "name": "stdout",
     "output_type": "stream",
     "text": [
      "you are fail\n",
      "you have attended exam\n"
     ]
    }
   ],
   "source": [
    "if y>=70:\n",
    "    print(\"you are pass\")\n",
    "else:\n",
    "    print(\"you are fail\")\n",
    "print(\"you have attended exam\")"
   ]
  },
  {
   "cell_type": "code",
   "execution_count": 11,
   "metadata": {},
   "outputs": [
    {
     "name": "stdout",
     "output_type": "stream",
     "text": [
      "enter any grade to be test78\n",
      "show the value which enter to be test is =  78\n"
     ]
    }
   ],
   "source": [
    "# elif statement using from user input\n",
    "z=int(input(\"enter any grade to be test\"))\n",
    "print(\"show the value which enter to be test is = \",z)"
   ]
  },
  {
   "cell_type": "code",
   "execution_count": 12,
   "metadata": {},
   "outputs": [
    {
     "name": "stdout",
     "output_type": "stream",
     "text": [
      "you passed with C grade\n",
      "thanks\n"
     ]
    }
   ],
   "source": [
    "if z>=90:\n",
    "    print(\"you passed with A grade\")\n",
    "elif z>=80:\n",
    "    print(\"you passed with B grade\")\n",
    "elif z>=70:\n",
    "    print(\"you passed with C grade\")\n",
    "else:\n",
    "    print(\"you are pass the exam\")\n",
    "print(\"thanks\")"
   ]
  },
  {
   "cell_type": "code",
   "execution_count": null,
   "metadata": {},
   "outputs": [],
   "source": [
    "# nested if statement using from user input\n",
    "a=float(input(\"enter any number to be test\"))\n",
    "print(\"show the value which enter to be test is = \",a)"
   ]
  },
  {
   "cell_type": "code",
   "execution_count": null,
   "metadata": {},
   "outputs": [],
   "source": [
    "if a%2==0:\n",
    "    if a%3==0:\n",
    "        print(\"number is dividable by 2 and 3\")\n",
    "    else:\n",
    "        print(\"number is dividable by 2 not by 3\")\n",
    "else:\n",
    "    if a%3==0:\n",
    "        print(\"number is dividable by 3 but not 2\")\n",
    "    else:\n",
    "        print(\"number is not dividable by 2 not by 3\")\n",
    "print(\"thanks\")"
   ]
  }
 ],
 "metadata": {
  "kernelspec": {
   "display_name": "Python 3",
   "language": "python",
   "name": "python3"
  },
  "language_info": {
   "codemirror_mode": {
    "name": "ipython",
    "version": 3
   },
   "file_extension": ".py",
   "mimetype": "text/x-python",
   "name": "python",
   "nbconvert_exporter": "python",
   "pygments_lexer": "ipython3",
   "version": "3.7.6"
  }
 },
 "nbformat": 4,
 "nbformat_minor": 4
}
