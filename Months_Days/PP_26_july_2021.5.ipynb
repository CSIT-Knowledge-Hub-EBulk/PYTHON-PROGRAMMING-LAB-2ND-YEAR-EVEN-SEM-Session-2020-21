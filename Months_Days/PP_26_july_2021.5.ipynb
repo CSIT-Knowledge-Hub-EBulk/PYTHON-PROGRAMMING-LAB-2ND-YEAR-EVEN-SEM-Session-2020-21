{
 "cells": [
  {
   "cell_type": "code",
   "execution_count": 4,
   "metadata": {},
   "outputs": [
    {
     "name": "stdout",
     "output_type": "stream",
     "text": [
      "Sorted array is\n",
      "2 3 4 5 5 6 7 8 "
     ]
    }
   ],
   "source": [
    "# heapify\n",
    "def heapify(arr, n, i):\n",
    "   largest = i # largest value\n",
    "   l = 2 * i + 1 # left\n",
    "   r = 2 * i + 2 # right\n",
    "   # if left child exists\n",
    "   if l < n and arr[i] < arr[l]:\n",
    "      largest = l\n",
    "   # if right child exits\n",
    "   if r < n and arr[largest] < arr[r]:\n",
    "      largest = r\n",
    "   # root\n",
    "   if largest != i:\n",
    "      arr[i],arr[largest] = arr[largest],arr[i] # swap\n",
    "      # root.\n",
    "      heapify(arr, n, largest)\n",
    "# sort\n",
    "def heapSort(arr):\n",
    "   n = len(arr)\n",
    "   # maxheap\n",
    "   for i in range(n, -1, -1):\n",
    "      heapify(arr, n, i)\n",
    "   # element extraction\n",
    "   for i in range(n-1, 0, -1):\n",
    "      arr[i], arr[0] = arr[0], arr[i] # swap\n",
    "      heapify(arr, i, 0)\n",
    "# main\n",
    "arr = [2,5,3,8,6,5,4,7]\n",
    "heapSort(arr)\n",
    "n = len(arr)\n",
    "print (\"Sorted array is\")\n",
    "for i in range(n):\n",
    "   print (arr[i],end=\" \")"
   ]
  },
  {
   "cell_type": "code",
   "execution_count": null,
   "metadata": {},
   "outputs": [],
   "source": []
  }
 ],
 "metadata": {
  "kernelspec": {
   "display_name": "Python 3",
   "language": "python",
   "name": "python3"
  },
  "language_info": {
   "codemirror_mode": {
    "name": "ipython",
    "version": 3
   },
   "file_extension": ".py",
   "mimetype": "text/x-python",
   "name": "python",
   "nbconvert_exporter": "python",
   "pygments_lexer": "ipython3",
   "version": "3.8.5"
  }
 },
 "nbformat": 4,
 "nbformat_minor": 4
}
