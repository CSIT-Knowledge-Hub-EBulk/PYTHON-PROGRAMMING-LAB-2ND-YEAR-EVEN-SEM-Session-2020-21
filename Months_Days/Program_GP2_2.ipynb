{
 "cells": [
  {
   "cell_type": "code",
   "execution_count": 14,
   "metadata": {},
   "outputs": [
    {
     "name": "stdout",
     "output_type": "stream",
     "text": [
      "ture\n",
      "ture\n",
      "ture\n",
      "ture\n"
     ]
    }
   ],
   "source": [
    "if 10+2==12:print('ture'),print('ture'),print('ture'),print('ture')"
   ]
  },
  {
   "cell_type": "code",
   "execution_count": 5,
   "metadata": {},
   "outputs": [
    {
     "name": "stdout",
     "output_type": "stream",
     "text": [
      "Enter the to be test->10\n",
      "show the output of given input=  10\n"
     ]
    }
   ],
   "source": [
    "a=int(input(\"Enter the to be test->\"))\n",
    "print(\"show the output of given input= \",a)"
   ]
  },
  {
   "cell_type": "code",
   "execution_count": 6,
   "metadata": {},
   "outputs": [
    {
     "name": "stdout",
     "output_type": "stream",
     "text": [
      "wow\n"
     ]
    }
   ],
   "source": [
    "# if statement\n",
    "if a==20:\n",
    "    print(\"yes it is equal\")\n",
    "print(\"wow\")"
   ]
  },
  {
   "cell_type": "code",
   "execution_count": 7,
   "metadata": {},
   "outputs": [
    {
     "name": "stdout",
     "output_type": "stream",
     "text": [
      "Enter the percentage ->55\n",
      "show the output of given input=  55\n"
     ]
    }
   ],
   "source": [
    "# if else statement\n",
    "a=int(input(\"Enter the percentage ->\"))\n",
    "print(\"show the output of given input= \",a)"
   ]
  },
  {
   "cell_type": "code",
   "execution_count": 8,
   "metadata": {},
   "outputs": [
    {
     "name": "stdout",
     "output_type": "stream",
     "text": [
      "passed or fail\n",
      "wow\n"
     ]
    }
   ],
   "source": [
    "if a>=75:\n",
    "    print(\"got dist.\")\n",
    "else:\n",
    "    print(\"passed or fail\")\n",
    "print(\"wow\")"
   ]
  },
  {
   "cell_type": "code",
   "execution_count": 10,
   "metadata": {},
   "outputs": [
    {
     "name": "stdout",
     "output_type": "stream",
     "text": [
      "Enter the percentage ->45\n",
      "show the output of given input=  45\n"
     ]
    }
   ],
   "source": [
    "#elif statement\n",
    "a=int(input(\"Enter the percentage ->\"))\n",
    "print(\"show the output of given input= \",a)"
   ]
  },
  {
   "cell_type": "code",
   "execution_count": 12,
   "metadata": {},
   "outputs": [
    {
     "name": "stdout",
     "output_type": "stream",
     "text": [
      "FAIL\n",
      "attended the exam\n"
     ]
    }
   ],
   "source": [
    "if a>=90:\n",
    "    print(\"passed with A grade\")\n",
    "elif a>=80:\n",
    "    print(\"passed with B grade\")\n",
    "elif a>=70:\n",
    "    print(\"passed with c grade\")\n",
    "elif a>=60:\n",
    "    print(\"passed\")\n",
    "else:\n",
    "    print(\"FAIL\")\n",
    "print(\"attended the exam\")"
   ]
  },
  {
   "cell_type": "code",
   "execution_count": 15,
   "metadata": {},
   "outputs": [
    {
     "ename": "SyntaxError",
     "evalue": "invalid syntax (<ipython-input-15-7174daf4fe4d>, line 1)",
     "output_type": "error",
     "traceback": [
      "\u001b[1;36m  File \u001b[1;32m\"<ipython-input-15-7174daf4fe4d>\"\u001b[1;36m, line \u001b[1;32m1\u001b[0m\n\u001b[1;33m    if x=1:\u001b[0m\n\u001b[1;37m        ^\u001b[0m\n\u001b[1;31mSyntaxError\u001b[0m\u001b[1;31m:\u001b[0m invalid syntax\n"
     ]
    }
   ],
   "source": [
    "if x=1:\n",
    "    print(\"true\")"
   ]
  },
  {
   "cell_type": "code",
   "execution_count": null,
   "metadata": {},
   "outputs": [],
   "source": []
  }
 ],
 "metadata": {
  "kernelspec": {
   "display_name": "Python 3",
   "language": "python",
   "name": "python3"
  },
  "language_info": {
   "codemirror_mode": {
    "name": "ipython",
    "version": 3
   },
   "file_extension": ".py",
   "mimetype": "text/x-python",
   "name": "python",
   "nbconvert_exporter": "python",
   "pygments_lexer": "ipython3",
   "version": "3.7.6"
  }
 },
 "nbformat": 4,
 "nbformat_minor": 4
}
