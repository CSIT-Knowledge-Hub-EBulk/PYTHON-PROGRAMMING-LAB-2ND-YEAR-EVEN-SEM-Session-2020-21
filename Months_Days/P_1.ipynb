{
 "cells": [
  {
   "cell_type": "code",
   "execution_count": 4,
   "metadata": {},
   "outputs": [],
   "source": [
    "def nat_num():\n",
    "    n=int(input(\"Enter N natural  number which you want to display\"))\n",
    "    i=1\n",
    "    while (i<=n):\n",
    "        print(i)\n",
    "        i=i+1"
   ]
  },
  {
   "cell_type": "code",
   "execution_count": 5,
   "metadata": {},
   "outputs": [],
   "source": [
    "#fgfkdkflgk"
   ]
  },
  {
   "cell_type": "code",
   "execution_count": 6,
   "metadata": {},
   "outputs": [],
   "source": [
    "# lffji"
   ]
  },
  {
   "cell_type": "code",
   "execution_count": 7,
   "metadata": {},
   "outputs": [
    {
     "name": "stdout",
     "output_type": "stream",
     "text": [
      "Enter N natural  number which you want to display6\n",
      "1\n",
      "2\n",
      "3\n",
      "4\n",
      "5\n",
      "6\n"
     ]
    }
   ],
   "source": [
    "nat_num()"
   ]
  },
  {
   "cell_type": "code",
   "execution_count": 8,
   "metadata": {},
   "outputs": [],
   "source": [
    "# sum of N natural number"
   ]
  },
  {
   "cell_type": "code",
   "execution_count": 23,
   "metadata": {},
   "outputs": [],
   "source": [
    "def add_nat():\n",
    "    n1=int(input(\"Enter N natural  number and add of them \"))\n",
    "    i=1\n",
    "    sum=0\n",
    "    while(i<=n1):\n",
    "        sum=sum+i\n",
    "        i=i+1\n",
    "    print(\"output Add all numbers=\",sum)"
   ]
  },
  {
   "cell_type": "code",
   "execution_count": 26,
   "metadata": {},
   "outputs": [
    {
     "name": "stdout",
     "output_type": "stream",
     "text": [
      "Enter N natural  number and add of them 3\n",
      "output Add all numbers= 6\n"
     ]
    }
   ],
   "source": [
    "add_nat()"
   ]
  },
  {
   "cell_type": "code",
   "execution_count": 27,
   "metadata": {},
   "outputs": [],
   "source": [
    "def squ_add_nat():\n",
    "    n1=int(input(\"Enter N natural  number and add of them \"))\n",
    "    i=1\n",
    "    sum=0\n",
    "    while(i<=n1):\n",
    "        sum+=(i*i)\n",
    "#sum=sum+(i*i)        \n",
    "        i=i+1\n",
    "    print(\"output Add all numbers=\",sum)"
   ]
  },
  {
   "cell_type": "code",
   "execution_count": 28,
   "metadata": {},
   "outputs": [
    {
     "name": "stdout",
     "output_type": "stream",
     "text": [
      "Enter N natural  number and add of them 3\n",
      "output Add all numbers= 14\n"
     ]
    }
   ],
   "source": [
    "squ_add_nat()"
   ]
  },
  {
   "cell_type": "code",
   "execution_count": 29,
   "metadata": {},
   "outputs": [
    {
     "name": "stdout",
     "output_type": "stream",
     "text": [
      "Enter N natural  number and add of them 3\n",
      "output Add all numbers= 6\n"
     ]
    }
   ],
   "source": [
    "add_nat()"
   ]
  },
  {
   "cell_type": "code",
   "execution_count": null,
   "metadata": {},
   "outputs": [],
   "source": []
  }
 ],
 "metadata": {
  "kernelspec": {
   "display_name": "Python 3",
   "language": "python",
   "name": "python3"
  },
  "language_info": {
   "codemirror_mode": {
    "name": "ipython",
    "version": 3
   },
   "file_extension": ".py",
   "mimetype": "text/x-python",
   "name": "python",
   "nbconvert_exporter": "python",
   "pygments_lexer": "ipython3",
   "version": "3.8.5"
  }
 },
 "nbformat": 4,
 "nbformat_minor": 4
}
