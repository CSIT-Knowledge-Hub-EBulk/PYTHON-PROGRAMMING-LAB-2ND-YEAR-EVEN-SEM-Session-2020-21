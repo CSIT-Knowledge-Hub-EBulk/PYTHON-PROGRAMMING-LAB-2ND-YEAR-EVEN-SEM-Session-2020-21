{
 "cells": [
  {
   "cell_type": "code",
   "execution_count": 2,
   "metadata": {},
   "outputs": [
    {
     "name": "stdout",
     "output_type": "stream",
     "text": [
      "element found at index 6\n"
     ]
    }
   ],
   "source": [
    "def linearsearch(arr, x):\n",
    "   for i in range(len(arr)):\n",
    "      if arr[i] == x:\n",
    "         return i\n",
    "   return -1\n",
    "arr = ['t','u','t','o','r','i','a','l']\n",
    "x = 'a'\n",
    "print(\"element found at index \"+str(linearsearch(arr,x)))"
   ]
  },
  {
   "cell_type": "code",
   "execution_count": 3,
   "metadata": {},
   "outputs": [
    {
     "name": "stdout",
     "output_type": "stream",
     "text": [
      "Element found at index:  3\n"
     ]
    }
   ],
   "source": [
    "# Linear Search in Python\n",
    "\n",
    "\n",
    "def linearSearch(array, n, x):\n",
    "\n",
    "    # Going through array sequencially\n",
    "    for i in range(0, n):\n",
    "        if (array[i] == x):\n",
    "            return i\n",
    "    return -1\n",
    "\n",
    "\n",
    "array = [2, 4, 0, 1, 9]\n",
    "x = 1\n",
    "n = len(array)\n",
    "result = linearSearch(array, n, x)\n",
    "if(result == -1):\n",
    "    print(\"Element not found\")\n",
    "else:\n",
    "    print(\"Element found at index: \", result)"
   ]
  },
  {
   "cell_type": "code",
   "execution_count": null,
   "metadata": {},
   "outputs": [],
   "source": []
  }
 ],
 "metadata": {
  "kernelspec": {
   "display_name": "Python 3",
   "language": "python",
   "name": "python3"
  },
  "language_info": {
   "codemirror_mode": {
    "name": "ipython",
    "version": 3
   },
   "file_extension": ".py",
   "mimetype": "text/x-python",
   "name": "python",
   "nbconvert_exporter": "python",
   "pygments_lexer": "ipython3",
   "version": "3.8.5"
  }
 },
 "nbformat": 4,
 "nbformat_minor": 4
}
